{
 "cells": [
  {
   "cell_type": "markdown",
   "metadata": {},
   "source": [
    "### Imports"
   ]
  },
  {
   "cell_type": "code",
   "execution_count": 1,
   "metadata": {},
   "outputs": [
    {
     "name": "stderr",
     "output_type": "stream",
     "text": [
      "/Users/arthurperrigot/miniconda3/envs/natixis/lib/python3.9/site-packages/tensorflow_addons/utils/tfa_eol_msg.py:23: UserWarning: \n",
      "\n",
      "TensorFlow Addons (TFA) has ended development and introduction of new features.\n",
      "TFA has entered a minimal maintenance and release mode until a planned end of life in May 2024.\n",
      "Please modify downstream libraries to take dependencies from other repositories in our TensorFlow community (e.g. Keras, Keras-CV, and Keras-NLP). \n",
      "\n",
      "For more information see: https://github.com/tensorflow/addons/issues/2807 \n",
      "\n",
      "  warnings.warn(\n"
     ]
    },
    {
     "name": "stdout",
     "output_type": "stream",
     "text": [
      "WARNING:tensorflow:From /Users/arthurperrigot/miniconda3/envs/natixis/lib/python3.9/site-packages/tensorflow/python/util/deprecation.py:588: calling function (from tensorflow.python.eager.polymorphic_function.polymorphic_function) with experimental_relax_shapes is deprecated and will be removed in a future version.\n",
      "Instructions for updating:\n",
      "experimental_relax_shapes is deprecated, use reduce_retracing instead\n"
     ]
    },
    {
     "name": "stderr",
     "output_type": "stream",
     "text": [
      "2024-01-16 17:42:51,220 - WARNING - From /Users/arthurperrigot/miniconda3/envs/natixis/lib/python3.9/site-packages/tensorflow/python/util/deprecation.py:588: calling function (from tensorflow.python.eager.polymorphic_function.polymorphic_function) with experimental_relax_shapes is deprecated and will be removed in a future version.\n",
      "Instructions for updating:\n",
      "experimental_relax_shapes is deprecated, use reduce_retracing instead\n"
     ]
    }
   ],
   "source": [
    "from natixis.deep_model import ExNet\n",
    "import pandas as pd\n",
    "from sklearn.model_selection import train_test_split\n",
    "import numpy as np\n",
    "from sklearn.metrics import accuracy_score, average_precision_score"
   ]
  },
  {
   "cell_type": "markdown",
   "metadata": {},
   "source": [
    "### Checking class repartition"
   ]
  },
  {
   "cell_type": "code",
   "execution_count": 2,
   "metadata": {},
   "outputs": [
    {
     "name": "stdout",
     "output_type": "stream",
     "text": [
      "98903\n",
      "101346\n",
      "192096\n"
     ]
    }
   ],
   "source": [
    "data = pd.read_csv('../data/new_dataset.csv')\n",
    "print(len(data[data['Signal']==0]))\n",
    "print(len(data[data['Signal']==1]))\n",
    "print(len(data[data['Signal']==2]))"
   ]
  },
  {
   "cell_type": "markdown",
   "metadata": {},
   "source": [
    "### Load model (make sure it is the same parameters as in main.py)"
   ]
  },
  {
   "cell_type": "code",
   "execution_count": 3,
   "metadata": {},
   "outputs": [],
   "source": [
    "# Build params\n",
    "seed=0\n",
    "n_experts = 5\n",
    "spec_weight = 7.7e-4\n",
    "entropy_weight = 4.2e-2\n",
    "expert_architecture = [32, 32]\n",
    "embedding_size = 32\n",
    "dropout_rates = {\"input\": 0.1, \"hidden\": 0.5}\n",
    "weight_decay = {\"l1\": 0.0, \"l2\": 0.0}\n",
    "gamma = 2.5\n",
    "\n",
    "# Fit params\n",
    "n_epochs = 10\n",
    "patience = 20\n",
    "batch_size = 1024\n",
    "learning_rate = 7.8e-4\n",
    "optimizer = \"nadam\"\n",
    "lookahead = True\n",
    "\n",
    "# ===== Preparing data =====\n",
    "data = pd.read_csv(\"../data/new_dataset.csv\")\n",
    "active_investors = data[\"company_short_name\"].unique()\n",
    "investor_mapping = dict(zip(active_investors, range(len(active_investors))))\n",
    "\n",
    "data[\"investor_encoding\"] = data[\"company_short_name\"].apply(\n",
    "    lambda x: investor_mapping[x]\n",
    ")\n",
    "\n",
    "n_investors = np.unique(data.investor_encoding.values).shape[0]\n",
    "\n",
    "# Splitting data\n",
    "indexes = np.arange(data.shape[0])\n",
    "train_idx, test_idx = train_test_split(indexes, test_size=0.2, random_state=seed)\n",
    "train_idx, val_idx = train_test_split(train_idx, test_size=0.2, random_state=seed)\n",
    "\n",
    "features = list(data.columns[4:-1])\n",
    "\n",
    "# Removing irrelevant columns - date, encoding, target & splits.\n",
    "data = data[[\"Deal_Date\", \"investor_encoding\", \"Signal\"] + features]\n",
    "\n",
    "train_data = data.iloc[train_idx]\n",
    "val_data = data.iloc[val_idx]\n",
    "test_data = data.iloc[test_idx]\n",
    "\n",
    "train_data_ = (\n",
    "    train_data[features].values.astype(np.float32),\n",
    "    train_data['investor_encoding'].values.astype(np.int32),\n",
    "    pd.get_dummies(train_data.Signal).values.astype(np.float32),\n",
    ")\n",
    "\n",
    "val_data_ = (\n",
    "    val_data[features].values.astype(np.float32),\n",
    "    val_data['investor_encoding'].values.astype(np.int32),\n",
    "    pd.get_dummies(val_data.Signal).values.astype(np.float32),\n",
    ")\n",
    "\n",
    "test_data_ = (\n",
    "    test_data[features].values.astype(np.float32),\n",
    "    test_data['investor_encoding'].values.astype(np.int32),\n",
    "    pd.get_dummies(test_data.Signal).values.astype(np.float32),\n",
    ")\n",
    "\n",
    "model = ExNet(\n",
    "    n_feats=len(features),\n",
    "    output_dim=3,\n",
    "    n_experts=n_experts,\n",
    "    expert_architecture=expert_architecture,\n",
    "    n_investors=n_investors,\n",
    "    embedding_size=embedding_size,\n",
    "    dropout_rates=dropout_rates,\n",
    "    weight_decay={\"l1\": 0.0, \"l2\": 0.0},\n",
    "    spec_weight=spec_weight,\n",
    "    entropy_weight=entropy_weight,\n",
    "    gamma=gamma,\n",
    "    name=f\"exnet\",\n",
    ")\n",
    "\n",
    "model.fake_call()\n",
    "model.load_weights('../models/exnet.h5')"
   ]
  },
  {
   "cell_type": "markdown",
   "metadata": {},
   "source": [
    "### Calculating metrics"
   ]
  },
  {
   "cell_type": "code",
   "execution_count": 4,
   "metadata": {},
   "outputs": [
    {
     "name": "stdout",
     "output_type": "stream",
     "text": [
      "0.7949891039773669\n"
     ]
    }
   ],
   "source": [
    "# Accuracy (correct prediction of signal for a given row)\n",
    "predictions = model.predict(test_data_[0:2])\n",
    "truth = np.argmax(test_data_[2], axis=1)\n",
    "\n",
    "accuracy = accuracy_score(truth, np.argmax(predictions, axis=1))\n",
    "print(accuracy)"
   ]
  },
  {
   "cell_type": "code",
   "execution_count": 5,
   "metadata": {},
   "outputs": [
    {
     "name": "stdout",
     "output_type": "stream",
     "text": [
      "train ap: 82.40 - val ap: 81.56 - test ap: 81.75\n"
     ]
    }
   ],
   "source": [
    "# Average Precision score\n",
    "train_pred = model.predict(train_data_[0:2])\n",
    "val_pred = model.predict(val_data_[0:2])\n",
    "test_pred = model.predict(test_data_[0:2])\n",
    "\n",
    "train_score = average_precision_score(train_data.Signal.values, train_pred)\n",
    "val_score = average_precision_score(val_data.Signal.values, val_pred)\n",
    "test_score = average_precision_score(test_data.Signal.values, test_pred)\n",
    "\n",
    "print(\n",
    "    f\"train ap: {100*train_score:.2f} - val ap: {100*val_score:.2f} - test ap: {100*test_score:.2f}\"\n",
    ")"
   ]
  },
  {
   "cell_type": "code",
   "execution_count": 6,
   "metadata": {},
   "outputs": [
    {
     "name": "stdout",
     "output_type": "stream",
     "text": [
      "Correct predictions for buyers:  0.3198589467679622\n",
      "Correct predictions for sellers:  0.23321363569285258\n",
      "Total correct predictions:  0.2899517794077696\n"
     ]
    }
   ],
   "source": [
    "# Client prediction\n",
    "correct_buyers = 0\n",
    "correct_sellers = 0\n",
    "total_buyers = 0\n",
    "total_sellers = 0\n",
    "\n",
    "for i in range(len(test_data_[1])):\n",
    "    # For buyers\n",
    "    if sum(test_data_[2][i] == np.array([0., 0., 1.])) == 3:\n",
    "        total_buyers += 1\n",
    "        feats = test_data_[0][i]\n",
    "        truth = test_data_[1][i]\n",
    "        invests = np.arange(89, dtype='int32')\n",
    "        feats_copied = np.tile(feats, (89, 1))\n",
    "        to_pred = (feats_copied, invests)\n",
    "\n",
    "        prediction = np.argmax(model.predict(to_pred)[:,2])\n",
    "        if truth == prediction:\n",
    "            correct_buyers += 1\n",
    "\n",
    "    if sum(test_data_[2][i] == np.array([0., 1., 0.])) == 3:\n",
    "        total_sellers += 1\n",
    "        feats = test_data_[0][i]\n",
    "        truth = test_data_[1][i]\n",
    "        invests = np.arange(89, dtype='int32')\n",
    "        feats_copied = np.tile(feats, (89, 1))\n",
    "        to_pred = (feats_copied, invests)\n",
    "\n",
    "        prediction = np.argmax(model.predict(to_pred)[:,1])\n",
    "        if truth == prediction:\n",
    "            correct_sellers += 1\n",
    "\n",
    "print(\"Correct predictions for buyers: \", correct_buyers/total_buyers)\n",
    "print(\"Correct predictions for sellers: \", correct_sellers/total_sellers)\n",
    "print(\"Total correct predictions: \", (correct_buyers+correct_sellers)/(total_buyers+total_sellers))"
   ]
  },
  {
   "cell_type": "code",
   "execution_count": 7,
   "metadata": {},
   "outputs": [
    {
     "name": "stdout",
     "output_type": "stream",
     "text": [
      "Correct predictions for buyers in top 3:  0.5182409832239998\n",
      "Correct predictions for sellers in top 3:  0.40607014609670916\n",
      "Total correct predictions in top 3:  0.4795232273838631\n"
     ]
    }
   ],
   "source": [
    "# Top 3 clients prediction\n",
    "correct_buyers = 0\n",
    "correct_sellers = 0\n",
    "total_buyers = 0\n",
    "total_sellers = 0\n",
    "\n",
    "for i in range(len(test_data_[1])):\n",
    "    # For buyers\n",
    "    if sum(test_data_[2][i] == np.array([0., 0., 1.])) == 3:\n",
    "        total_buyers += 1\n",
    "        feats = test_data_[0][i]\n",
    "        truth = test_data_[1][i]\n",
    "        invests = np.arange(89, dtype='int32')\n",
    "        feats_copied = np.tile(feats, (89, 1))\n",
    "        to_pred = (feats_copied, invests)\n",
    "\n",
    "        top3_indices = np.argsort(model.predict(to_pred)[:, 2])[-3:]\n",
    "        if truth in top3_indices:\n",
    "            correct_buyers += 1\n",
    "\n",
    "    if sum(test_data_[2][i] == np.array([0., 1., 0.])) == 3:\n",
    "        total_sellers += 1\n",
    "        feats = test_data_[0][i]\n",
    "        truth = test_data_[1][i]\n",
    "        invests = np.arange(89, dtype='int32')\n",
    "        feats_copied = np.tile(feats, (89, 1))\n",
    "        to_pred = (feats_copied, invests)\n",
    "\n",
    "        top3_indices = np.argsort(model.predict(to_pred)[:, 1])[-3:]\n",
    "        if truth in top3_indices:\n",
    "            correct_sellers += 1\n",
    "\n",
    "print(\"Correct predictions for buyers in top 3: \", correct_buyers/total_buyers)\n",
    "print(\"Correct predictions for sellers in top 3: \", correct_sellers/total_sellers)\n",
    "print(\"Total correct predictions in top 3: \", (correct_buyers+correct_sellers)/(total_buyers+total_sellers))"
   ]
  },
  {
   "cell_type": "code",
   "execution_count": 8,
   "metadata": {},
   "outputs": [
    {
     "name": "stdout",
     "output_type": "stream",
     "text": [
      "Correct predictions for buyers in top 5:  0.5299089895506521\n",
      "Correct predictions for sellers in top 5:  0.4122681883024251\n",
      "Total correct predictions in top 5:  0.4893031784841076\n"
     ]
    }
   ],
   "source": [
    "# Top 5 clients prediction\n",
    "correct_buyers = 0\n",
    "correct_sellers = 0\n",
    "total_buyers = 0\n",
    "total_sellers = 0\n",
    "\n",
    "for i in range(len(test_data_[1])):\n",
    "    # For buyers\n",
    "    if sum(test_data_[2][i] == np.array([0., 0., 1.])) == 3:\n",
    "        total_buyers += 1\n",
    "        feats = test_data_[0][i]\n",
    "        truth = test_data_[1][i]\n",
    "        invests = np.arange(89, dtype='int32')\n",
    "        feats_copied = np.tile(feats, (89, 1))\n",
    "        to_pred = (feats_copied, invests)\n",
    "\n",
    "        top5_indices = np.argsort(model.predict(to_pred)[:, 2])[-5:]\n",
    "        if truth in top3_indices:\n",
    "            correct_buyers += 1\n",
    "\n",
    "    if sum(test_data_[2][i] == np.array([0., 1., 0.])) == 3:\n",
    "        total_sellers += 1\n",
    "        feats = test_data_[0][i]\n",
    "        truth = test_data_[1][i]\n",
    "        invests = np.arange(89, dtype='int32')\n",
    "        feats_copied = np.tile(feats, (89, 1))\n",
    "        to_pred = (feats_copied, invests)\n",
    "\n",
    "        top5_indices = np.argsort(model.predict(to_pred)[:, 1])[-5:]\n",
    "        if truth in top3_indices:\n",
    "            correct_sellers += 1\n",
    "\n",
    "print(\"Correct predictions for buyers in top 5: \", correct_buyers/total_buyers)\n",
    "print(\"Correct predictions for sellers in top 5: \", correct_sellers/total_sellers)\n",
    "print(\"Total correct predictions in top 5: \", (correct_buyers+correct_sellers)/(total_buyers+total_sellers))"
   ]
  },
  {
   "cell_type": "code",
   "execution_count": 9,
   "metadata": {},
   "outputs": [
    {
     "name": "stdout",
     "output_type": "stream",
     "text": [
      "Correct predictions for buyers in top 10:  0.5299089895506521\n",
      "Correct predictions for sellers in top 10:  0.4122681883024251\n",
      "Total correct predictions in top 10:  0.4893031784841076\n"
     ]
    }
   ],
   "source": [
    "# Top 10 clients prediction\n",
    "correct_buyers = 0\n",
    "correct_sellers = 0\n",
    "total_buyers = 0\n",
    "total_sellers = 0\n",
    "\n",
    "for i in range(len(test_data_[1])):\n",
    "    # For buyers\n",
    "    if sum(test_data_[2][i] == np.array([0., 0., 1.])) == 3:\n",
    "        total_buyers += 1\n",
    "        feats = test_data_[0][i]\n",
    "        truth = test_data_[1][i]\n",
    "        invests = np.arange(89, dtype='int32')\n",
    "        feats_copied = np.tile(feats, (89, 1))\n",
    "        to_pred = (feats_copied, invests)\n",
    "\n",
    "        top10_indices = np.argsort(model.predict(to_pred)[:, 2])[-10:]\n",
    "        if truth in top3_indices:\n",
    "            correct_buyers += 1\n",
    "\n",
    "    if sum(test_data_[2][i] == np.array([0., 1., 0.])) == 3:\n",
    "        total_sellers += 1\n",
    "        feats = test_data_[0][i]\n",
    "        truth = test_data_[1][i]\n",
    "        invests = np.arange(89, dtype='int32')\n",
    "        feats_copied = np.tile(feats, (89, 1))\n",
    "        to_pred = (feats_copied, invests)\n",
    "\n",
    "        top10_indices = np.argsort(model.predict(to_pred)[:, 1])[-10:]\n",
    "        if truth in top3_indices:\n",
    "            correct_sellers += 1\n",
    "\n",
    "print(\"Correct predictions for buyers in top 10: \", correct_buyers/total_buyers)\n",
    "print(\"Correct predictions for sellers in top 10: \", correct_sellers/total_sellers)\n",
    "print(\"Total correct predictions in top 10: \", (correct_buyers+correct_sellers)/(total_buyers+total_sellers))"
   ]
  }
 ],
 "metadata": {
  "kernelspec": {
   "display_name": "natixis",
   "language": "python",
   "name": "python3"
  },
  "language_info": {
   "codemirror_mode": {
    "name": "ipython",
    "version": 3
   },
   "file_extension": ".py",
   "mimetype": "text/x-python",
   "name": "python",
   "nbconvert_exporter": "python",
   "pygments_lexer": "ipython3",
   "version": "3.9.18"
  }
 },
 "nbformat": 4,
 "nbformat_minor": 2
}
